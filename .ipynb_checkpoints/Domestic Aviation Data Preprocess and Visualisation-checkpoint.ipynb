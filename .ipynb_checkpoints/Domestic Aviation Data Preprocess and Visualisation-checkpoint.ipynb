{
 "cells": [
  {
   "cell_type": "markdown",
   "metadata": {},
   "source": [
    "## Introduction\n",
    "This is a data proprocessing and visualisation demonstration using the Australian Domestic Air Traffic Data, available in https://data.gov.au/dataset/ds-dga-6d7414c5-64b7-4ee1-bc14-77cb3dc9e03a/details"
   ]
  },
  {
   "cell_type": "markdown",
   "metadata": {},
   "source": [
    "### Setup\n",
    "We first import the necessary libraries and read the data from the CSV files"
   ]
  },
  {
   "cell_type": "code",
   "execution_count": 111,
   "metadata": {},
   "outputs": [],
   "source": [
    "%matplotlib inline\n",
    "import matplotlib as mpl\n",
    "import matplotlib.pyplot as plt\n",
    "import numpy as np\n",
    "import pandas as pd\n",
    "import datetime as dt\n",
    "import seaborn as sns\n",
    "\n",
    "datapath = \"C:\\\\Users\\\\Rafi\\\\Downloads\\\\Aviation\\\\audom\\\\audomcitypairs-202102.csv\"\n",
    "citypath = \"C:\\\\Users\\\\Rafi\\\\Downloads\\\\Aviation\\\\worldcities\\\\worldcitiespop.csv\"\n",
    "\n",
    "df = pd.read_csv(datapath)\n",
    "df2 = pd.read_csv(citypath, low_memory=False)"
   ]
  },
  {
   "cell_type": "markdown",
   "metadata": {},
   "source": [
    "#### Process City Data\n",
    "Selecting only Australian cities and renaming column so that the dataframe only has a city and corresponding latitude and longitude"
   ]
  },
  {
   "cell_type": "code",
   "execution_count": 112,
   "metadata": {},
   "outputs": [
    {
     "data": {
      "text/html": [
       "<div>\n",
       "<style scoped>\n",
       "    .dataframe tbody tr th:only-of-type {\n",
       "        vertical-align: middle;\n",
       "    }\n",
       "\n",
       "    .dataframe tbody tr th {\n",
       "        vertical-align: top;\n",
       "    }\n",
       "\n",
       "    .dataframe thead th {\n",
       "        text-align: right;\n",
       "    }\n",
       "</style>\n",
       "<table border=\"1\" class=\"dataframe\">\n",
       "  <thead>\n",
       "    <tr style=\"text-align: right;\">\n",
       "      <th></th>\n",
       "      <th>City</th>\n",
       "      <th>Latitude</th>\n",
       "      <th>Longitude</th>\n",
       "    </tr>\n",
       "  </thead>\n",
       "  <tbody>\n",
       "    <tr>\n",
       "      <th>0</th>\n",
       "      <td>Abbotsford</td>\n",
       "      <td>-33.850000</td>\n",
       "      <td>151.133333</td>\n",
       "    </tr>\n",
       "    <tr>\n",
       "      <th>1</th>\n",
       "      <td>Abbotsford</td>\n",
       "      <td>-37.800000</td>\n",
       "      <td>145.000000</td>\n",
       "    </tr>\n",
       "    <tr>\n",
       "      <th>2</th>\n",
       "      <td>Abbotsham</td>\n",
       "      <td>-41.216667</td>\n",
       "      <td>146.183333</td>\n",
       "    </tr>\n",
       "    <tr>\n",
       "      <th>3</th>\n",
       "      <td>Abbotts</td>\n",
       "      <td>-26.316667</td>\n",
       "      <td>118.383333</td>\n",
       "    </tr>\n",
       "    <tr>\n",
       "      <th>4</th>\n",
       "      <td>Abercorn</td>\n",
       "      <td>-25.150000</td>\n",
       "      <td>151.033333</td>\n",
       "    </tr>\n",
       "  </tbody>\n",
       "</table>\n",
       "</div>"
      ],
      "text/plain": [
       "         City   Latitude   Longitude\n",
       "0  Abbotsford -33.850000  151.133333\n",
       "1  Abbotsford -37.800000  145.000000\n",
       "2   Abbotsham -41.216667  146.183333\n",
       "3     Abbotts -26.316667  118.383333\n",
       "4    Abercorn -25.150000  151.033333"
      ]
     },
     "execution_count": 112,
     "metadata": {},
     "output_type": "execute_result"
    }
   ],
   "source": [
    "citydf = df2.loc[df2['Country']=='au']\n",
    "citydf = citydf.drop(citydf.columns[[0, 1, 3,4]], axis=1)\n",
    "citydf.rename(columns={\"AccentCity\":\"City\"}, inplace=True)\n",
    "citydf.reset_index(drop=True, inplace=True)\n",
    "citydf.head()"
   ]
  },
  {
   "cell_type": "markdown",
   "metadata": {},
   "source": [
    "### First look at the unprocessed Aviation data"
   ]
  },
  {
   "cell_type": "code",
   "execution_count": 113,
   "metadata": {},
   "outputs": [
    {
     "data": {
      "text/html": [
       "<div>\n",
       "<style scoped>\n",
       "    .dataframe tbody tr th:only-of-type {\n",
       "        vertical-align: middle;\n",
       "    }\n",
       "\n",
       "    .dataframe tbody tr th {\n",
       "        vertical-align: top;\n",
       "    }\n",
       "\n",
       "    .dataframe thead th {\n",
       "        text-align: right;\n",
       "    }\n",
       "</style>\n",
       "<table border=\"1\" class=\"dataframe\">\n",
       "  <thead>\n",
       "    <tr style=\"text-align: right;\">\n",
       "      <th></th>\n",
       "      <th>City1</th>\n",
       "      <th>City2</th>\n",
       "      <th>Month</th>\n",
       "      <th>Passenger_Trips</th>\n",
       "      <th>Aircraft_Trips</th>\n",
       "      <th>Passenger_Load_Factor</th>\n",
       "      <th>Distance_GC_(km)</th>\n",
       "      <th>RPKs</th>\n",
       "      <th>ASKs</th>\n",
       "      <th>Seats</th>\n",
       "      <th>Year</th>\n",
       "      <th>Month_num</th>\n",
       "    </tr>\n",
       "  </thead>\n",
       "  <tbody>\n",
       "    <tr>\n",
       "      <th>0</th>\n",
       "      <td>ADELAIDE</td>\n",
       "      <td>ALICE SPRINGS</td>\n",
       "      <td>30682</td>\n",
       "      <td>15743</td>\n",
       "      <td>143</td>\n",
       "      <td>81.8</td>\n",
       "      <td>1316</td>\n",
       "      <td>20717788.0</td>\n",
       "      <td>25327369.0</td>\n",
       "      <td>19246</td>\n",
       "      <td>1984</td>\n",
       "      <td>1</td>\n",
       "    </tr>\n",
       "    <tr>\n",
       "      <th>1</th>\n",
       "      <td>ADELAIDE</td>\n",
       "      <td>BRISBANE</td>\n",
       "      <td>30682</td>\n",
       "      <td>3781</td>\n",
       "      <td>32</td>\n",
       "      <td>89.8</td>\n",
       "      <td>1622</td>\n",
       "      <td>6132782.0</td>\n",
       "      <td>6829379.0</td>\n",
       "      <td>4210</td>\n",
       "      <td>1984</td>\n",
       "      <td>1</td>\n",
       "    </tr>\n",
       "    <tr>\n",
       "      <th>2</th>\n",
       "      <td>ADELAIDE</td>\n",
       "      <td>CANBERRA</td>\n",
       "      <td>30682</td>\n",
       "      <td>1339</td>\n",
       "      <td>12</td>\n",
       "      <td>94.7</td>\n",
       "      <td>972</td>\n",
       "      <td>1301508.0</td>\n",
       "      <td>1374348.0</td>\n",
       "      <td>1414</td>\n",
       "      <td>1984</td>\n",
       "      <td>1</td>\n",
       "    </tr>\n",
       "    <tr>\n",
       "      <th>3</th>\n",
       "      <td>ADELAIDE</td>\n",
       "      <td>DARWIN</td>\n",
       "      <td>30682</td>\n",
       "      <td>3050</td>\n",
       "      <td>33</td>\n",
       "      <td>66.8</td>\n",
       "      <td>2619</td>\n",
       "      <td>7987950.0</td>\n",
       "      <td>11958009.0</td>\n",
       "      <td>4566</td>\n",
       "      <td>1984</td>\n",
       "      <td>1</td>\n",
       "    </tr>\n",
       "    <tr>\n",
       "      <th>4</th>\n",
       "      <td>ADELAIDE</td>\n",
       "      <td>GOLD COAST</td>\n",
       "      <td>30682</td>\n",
       "      <td>1596</td>\n",
       "      <td>16</td>\n",
       "      <td>88.5</td>\n",
       "      <td>1607</td>\n",
       "      <td>2564772.0</td>\n",
       "      <td>2898047.0</td>\n",
       "      <td>1803</td>\n",
       "      <td>1984</td>\n",
       "      <td>1</td>\n",
       "    </tr>\n",
       "  </tbody>\n",
       "</table>\n",
       "</div>"
      ],
      "text/plain": [
       "      City1          City2  Month  Passenger_Trips  Aircraft_Trips  \\\n",
       "0  ADELAIDE  ALICE SPRINGS  30682            15743             143   \n",
       "1  ADELAIDE       BRISBANE  30682             3781              32   \n",
       "2  ADELAIDE       CANBERRA  30682             1339              12   \n",
       "3  ADELAIDE         DARWIN  30682             3050              33   \n",
       "4  ADELAIDE     GOLD COAST  30682             1596              16   \n",
       "\n",
       "  Passenger_Load_Factor  Distance_GC_(km)        RPKs        ASKs  Seats  \\\n",
       "0                  81.8              1316  20717788.0  25327369.0  19246   \n",
       "1                  89.8              1622   6132782.0   6829379.0   4210   \n",
       "2                  94.7               972   1301508.0   1374348.0   1414   \n",
       "3                  66.8              2619   7987950.0  11958009.0   4566   \n",
       "4                  88.5              1607   2564772.0   2898047.0   1803   \n",
       "\n",
       "   Year  Month_num  \n",
       "0  1984          1  \n",
       "1  1984          1  \n",
       "2  1984          1  \n",
       "3  1984          1  \n",
       "4  1984          1  "
      ]
     },
     "execution_count": 113,
     "metadata": {},
     "output_type": "execute_result"
    }
   ],
   "source": [
    "df.head()"
   ]
  },
  {
   "cell_type": "code",
   "execution_count": 114,
   "metadata": {},
   "outputs": [
    {
     "name": "stdout",
     "output_type": "stream",
     "text": [
      "There are 24438 rows and 12 columns\n"
     ]
    }
   ],
   "source": [
    "nRow, nCol = avdf.shape\n",
    "print(f'There are {nRow} rows and {nCol} columns')"
   ]
  },
  {
   "cell_type": "markdown",
   "metadata": {},
   "source": [
    "### Doing simple preprocessing\n",
    "\n",
    "1. Change city name to title case"
   ]
  },
  {
   "cell_type": "code",
   "execution_count": 115,
   "metadata": {},
   "outputs": [
    {
     "data": {
      "text/html": [
       "<div>\n",
       "<style scoped>\n",
       "    .dataframe tbody tr th:only-of-type {\n",
       "        vertical-align: middle;\n",
       "    }\n",
       "\n",
       "    .dataframe tbody tr th {\n",
       "        vertical-align: top;\n",
       "    }\n",
       "\n",
       "    .dataframe thead th {\n",
       "        text-align: right;\n",
       "    }\n",
       "</style>\n",
       "<table border=\"1\" class=\"dataframe\">\n",
       "  <thead>\n",
       "    <tr style=\"text-align: right;\">\n",
       "      <th></th>\n",
       "      <th>City1</th>\n",
       "      <th>City2</th>\n",
       "      <th>Month</th>\n",
       "      <th>Passenger_Trips</th>\n",
       "      <th>Aircraft_Trips</th>\n",
       "      <th>Passenger_Load_Factor</th>\n",
       "      <th>Distance_GC_(km)</th>\n",
       "      <th>RPKs</th>\n",
       "      <th>ASKs</th>\n",
       "      <th>Seats</th>\n",
       "      <th>Year</th>\n",
       "      <th>Month_num</th>\n",
       "    </tr>\n",
       "  </thead>\n",
       "  <tbody>\n",
       "    <tr>\n",
       "      <th>0</th>\n",
       "      <td>Adelaide</td>\n",
       "      <td>Alice Springs</td>\n",
       "      <td>30682</td>\n",
       "      <td>15743</td>\n",
       "      <td>143</td>\n",
       "      <td>81.8</td>\n",
       "      <td>1316</td>\n",
       "      <td>20717788.0</td>\n",
       "      <td>25327369.0</td>\n",
       "      <td>19246</td>\n",
       "      <td>1984</td>\n",
       "      <td>1</td>\n",
       "    </tr>\n",
       "    <tr>\n",
       "      <th>1</th>\n",
       "      <td>Adelaide</td>\n",
       "      <td>Brisbane</td>\n",
       "      <td>30682</td>\n",
       "      <td>3781</td>\n",
       "      <td>32</td>\n",
       "      <td>89.8</td>\n",
       "      <td>1622</td>\n",
       "      <td>6132782.0</td>\n",
       "      <td>6829379.0</td>\n",
       "      <td>4210</td>\n",
       "      <td>1984</td>\n",
       "      <td>1</td>\n",
       "    </tr>\n",
       "    <tr>\n",
       "      <th>2</th>\n",
       "      <td>Adelaide</td>\n",
       "      <td>Canberra</td>\n",
       "      <td>30682</td>\n",
       "      <td>1339</td>\n",
       "      <td>12</td>\n",
       "      <td>94.7</td>\n",
       "      <td>972</td>\n",
       "      <td>1301508.0</td>\n",
       "      <td>1374348.0</td>\n",
       "      <td>1414</td>\n",
       "      <td>1984</td>\n",
       "      <td>1</td>\n",
       "    </tr>\n",
       "    <tr>\n",
       "      <th>3</th>\n",
       "      <td>Adelaide</td>\n",
       "      <td>Darwin</td>\n",
       "      <td>30682</td>\n",
       "      <td>3050</td>\n",
       "      <td>33</td>\n",
       "      <td>66.8</td>\n",
       "      <td>2619</td>\n",
       "      <td>7987950.0</td>\n",
       "      <td>11958009.0</td>\n",
       "      <td>4566</td>\n",
       "      <td>1984</td>\n",
       "      <td>1</td>\n",
       "    </tr>\n",
       "    <tr>\n",
       "      <th>4</th>\n",
       "      <td>Adelaide</td>\n",
       "      <td>Gold Coast</td>\n",
       "      <td>30682</td>\n",
       "      <td>1596</td>\n",
       "      <td>16</td>\n",
       "      <td>88.5</td>\n",
       "      <td>1607</td>\n",
       "      <td>2564772.0</td>\n",
       "      <td>2898047.0</td>\n",
       "      <td>1803</td>\n",
       "      <td>1984</td>\n",
       "      <td>1</td>\n",
       "    </tr>\n",
       "  </tbody>\n",
       "</table>\n",
       "</div>"
      ],
      "text/plain": [
       "      City1          City2  Month  Passenger_Trips  Aircraft_Trips  \\\n",
       "0  Adelaide  Alice Springs  30682            15743             143   \n",
       "1  Adelaide       Brisbane  30682             3781              32   \n",
       "2  Adelaide       Canberra  30682             1339              12   \n",
       "3  Adelaide         Darwin  30682             3050              33   \n",
       "4  Adelaide     Gold Coast  30682             1596              16   \n",
       "\n",
       "  Passenger_Load_Factor  Distance_GC_(km)        RPKs        ASKs  Seats  \\\n",
       "0                  81.8              1316  20717788.0  25327369.0  19246   \n",
       "1                  89.8              1622   6132782.0   6829379.0   4210   \n",
       "2                  94.7               972   1301508.0   1374348.0   1414   \n",
       "3                  66.8              2619   7987950.0  11958009.0   4566   \n",
       "4                  88.5              1607   2564772.0   2898047.0   1803   \n",
       "\n",
       "   Year  Month_num  \n",
       "0  1984          1  \n",
       "1  1984          1  \n",
       "2  1984          1  \n",
       "3  1984          1  \n",
       "4  1984          1  "
      ]
     },
     "execution_count": 115,
     "metadata": {},
     "output_type": "execute_result"
    }
   ],
   "source": [
    "df[\"City1\"] = df[\"City1\"].str.title()\n",
    "df[\"City2\"] = df[\"City2\"].str.title()\n",
    "df.head()"
   ]
  },
  {
   "cell_type": "markdown",
   "metadata": {},
   "source": [
    "2. Convert MS EXCEL style date format to YYYY-MM-DD"
   ]
  },
  {
   "cell_type": "code",
   "execution_count": 116,
   "metadata": {},
   "outputs": [
    {
     "data": {
      "text/html": [
       "<div>\n",
       "<style scoped>\n",
       "    .dataframe tbody tr th:only-of-type {\n",
       "        vertical-align: middle;\n",
       "    }\n",
       "\n",
       "    .dataframe tbody tr th {\n",
       "        vertical-align: top;\n",
       "    }\n",
       "\n",
       "    .dataframe thead th {\n",
       "        text-align: right;\n",
       "    }\n",
       "</style>\n",
       "<table border=\"1\" class=\"dataframe\">\n",
       "  <thead>\n",
       "    <tr style=\"text-align: right;\">\n",
       "      <th></th>\n",
       "      <th>City1</th>\n",
       "      <th>City2</th>\n",
       "      <th>Month</th>\n",
       "      <th>Passenger_Trips</th>\n",
       "      <th>Aircraft_Trips</th>\n",
       "      <th>Passenger_Load_Factor</th>\n",
       "      <th>Distance_GC_(km)</th>\n",
       "      <th>RPKs</th>\n",
       "      <th>ASKs</th>\n",
       "      <th>Seats</th>\n",
       "      <th>Year</th>\n",
       "      <th>Month_num</th>\n",
       "      <th>date</th>\n",
       "    </tr>\n",
       "  </thead>\n",
       "  <tbody>\n",
       "    <tr>\n",
       "      <th>0</th>\n",
       "      <td>Adelaide</td>\n",
       "      <td>Alice Springs</td>\n",
       "      <td>30682</td>\n",
       "      <td>15743</td>\n",
       "      <td>143</td>\n",
       "      <td>81.8</td>\n",
       "      <td>1316</td>\n",
       "      <td>20717788.0</td>\n",
       "      <td>25327369.0</td>\n",
       "      <td>19246</td>\n",
       "      <td>1984</td>\n",
       "      <td>1</td>\n",
       "      <td>1984-01-01</td>\n",
       "    </tr>\n",
       "    <tr>\n",
       "      <th>1</th>\n",
       "      <td>Adelaide</td>\n",
       "      <td>Brisbane</td>\n",
       "      <td>30682</td>\n",
       "      <td>3781</td>\n",
       "      <td>32</td>\n",
       "      <td>89.8</td>\n",
       "      <td>1622</td>\n",
       "      <td>6132782.0</td>\n",
       "      <td>6829379.0</td>\n",
       "      <td>4210</td>\n",
       "      <td>1984</td>\n",
       "      <td>1</td>\n",
       "      <td>1984-01-01</td>\n",
       "    </tr>\n",
       "    <tr>\n",
       "      <th>2</th>\n",
       "      <td>Adelaide</td>\n",
       "      <td>Canberra</td>\n",
       "      <td>30682</td>\n",
       "      <td>1339</td>\n",
       "      <td>12</td>\n",
       "      <td>94.7</td>\n",
       "      <td>972</td>\n",
       "      <td>1301508.0</td>\n",
       "      <td>1374348.0</td>\n",
       "      <td>1414</td>\n",
       "      <td>1984</td>\n",
       "      <td>1</td>\n",
       "      <td>1984-01-01</td>\n",
       "    </tr>\n",
       "    <tr>\n",
       "      <th>3</th>\n",
       "      <td>Adelaide</td>\n",
       "      <td>Darwin</td>\n",
       "      <td>30682</td>\n",
       "      <td>3050</td>\n",
       "      <td>33</td>\n",
       "      <td>66.8</td>\n",
       "      <td>2619</td>\n",
       "      <td>7987950.0</td>\n",
       "      <td>11958009.0</td>\n",
       "      <td>4566</td>\n",
       "      <td>1984</td>\n",
       "      <td>1</td>\n",
       "      <td>1984-01-01</td>\n",
       "    </tr>\n",
       "    <tr>\n",
       "      <th>4</th>\n",
       "      <td>Adelaide</td>\n",
       "      <td>Gold Coast</td>\n",
       "      <td>30682</td>\n",
       "      <td>1596</td>\n",
       "      <td>16</td>\n",
       "      <td>88.5</td>\n",
       "      <td>1607</td>\n",
       "      <td>2564772.0</td>\n",
       "      <td>2898047.0</td>\n",
       "      <td>1803</td>\n",
       "      <td>1984</td>\n",
       "      <td>1</td>\n",
       "      <td>1984-01-01</td>\n",
       "    </tr>\n",
       "  </tbody>\n",
       "</table>\n",
       "</div>"
      ],
      "text/plain": [
       "      City1          City2  Month  Passenger_Trips  Aircraft_Trips  \\\n",
       "0  Adelaide  Alice Springs  30682            15743             143   \n",
       "1  Adelaide       Brisbane  30682             3781              32   \n",
       "2  Adelaide       Canberra  30682             1339              12   \n",
       "3  Adelaide         Darwin  30682             3050              33   \n",
       "4  Adelaide     Gold Coast  30682             1596              16   \n",
       "\n",
       "  Passenger_Load_Factor  Distance_GC_(km)        RPKs        ASKs  Seats  \\\n",
       "0                  81.8              1316  20717788.0  25327369.0  19246   \n",
       "1                  89.8              1622   6132782.0   6829379.0   4210   \n",
       "2                  94.7               972   1301508.0   1374348.0   1414   \n",
       "3                  66.8              2619   7987950.0  11958009.0   4566   \n",
       "4                  88.5              1607   2564772.0   2898047.0   1803   \n",
       "\n",
       "   Year  Month_num       date  \n",
       "0  1984          1 1984-01-01  \n",
       "1  1984          1 1984-01-01  \n",
       "2  1984          1 1984-01-01  \n",
       "3  1984          1 1984-01-01  \n",
       "4  1984          1 1984-01-01  "
      ]
     },
     "execution_count": 116,
     "metadata": {},
     "output_type": "execute_result"
    }
   ],
   "source": [
    "df['date'] = pd.to_datetime(df['Month'], unit='D', origin='1899-12-30')\n",
    "df.head()"
   ]
  },
  {
   "cell_type": "markdown",
   "metadata": {},
   "source": [
    "3. Merge latitude and logitude from city coordinate table. This can be used for pointing locations on maps. \n"
   ]
  },
  {
   "cell_type": "code",
   "execution_count": 117,
   "metadata": {},
   "outputs": [],
   "source": [
    "df1 = pd.merge(df, \n",
    "               citydf, \n",
    "               left_on='City1',\n",
    "               right_on='City',\n",
    "               how='left')\n",
    "\n",
    "df1.rename(columns={\"Latitude\":\"City1lat\", \"Longitude\":\"City1long\"}, inplace=True)\n",
    "df1.drop(['City'], axis=1, inplace=True)\n",
    "\n",
    "df2 = pd.merge(df1, \n",
    "               citydf, \n",
    "               left_on='City2',\n",
    "               right_on='City',\n",
    "               how='left')\n",
    "\n",
    "df2.rename(columns={\"Latitude\":\"City2lat\", \"Longitude\":\"City2long\"}, inplace=True)\n",
    "df2.drop(['City'], axis=1, inplace=True)"
   ]
  },
  {
   "cell_type": "markdown",
   "metadata": {},
   "source": [
    "4. Add City Pair column combining City1 and City 2"
   ]
  },
  {
   "cell_type": "code",
   "execution_count": 118,
   "metadata": {},
   "outputs": [
    {
     "data": {
      "text/html": [
       "<div>\n",
       "<style scoped>\n",
       "    .dataframe tbody tr th:only-of-type {\n",
       "        vertical-align: middle;\n",
       "    }\n",
       "\n",
       "    .dataframe tbody tr th {\n",
       "        vertical-align: top;\n",
       "    }\n",
       "\n",
       "    .dataframe thead th {\n",
       "        text-align: right;\n",
       "    }\n",
       "</style>\n",
       "<table border=\"1\" class=\"dataframe\">\n",
       "  <thead>\n",
       "    <tr style=\"text-align: right;\">\n",
       "      <th></th>\n",
       "      <th>City1</th>\n",
       "      <th>City2</th>\n",
       "      <th>Month</th>\n",
       "      <th>Passenger_Trips</th>\n",
       "      <th>Aircraft_Trips</th>\n",
       "      <th>Passenger_Load_Factor</th>\n",
       "      <th>Distance_GC_(km)</th>\n",
       "      <th>RPKs</th>\n",
       "      <th>ASKs</th>\n",
       "      <th>Seats</th>\n",
       "      <th>Year</th>\n",
       "      <th>Month_num</th>\n",
       "      <th>date</th>\n",
       "      <th>City1lat</th>\n",
       "      <th>City1long</th>\n",
       "      <th>City2lat</th>\n",
       "      <th>City2long</th>\n",
       "      <th>CityPair</th>\n",
       "    </tr>\n",
       "  </thead>\n",
       "  <tbody>\n",
       "    <tr>\n",
       "      <th>0</th>\n",
       "      <td>Adelaide</td>\n",
       "      <td>Alice Springs</td>\n",
       "      <td>30682</td>\n",
       "      <td>15743</td>\n",
       "      <td>143</td>\n",
       "      <td>81.8</td>\n",
       "      <td>1316</td>\n",
       "      <td>20717788.0</td>\n",
       "      <td>25327369.0</td>\n",
       "      <td>19246</td>\n",
       "      <td>1984</td>\n",
       "      <td>1</td>\n",
       "      <td>1984-01-01</td>\n",
       "      <td>-34.928661</td>\n",
       "      <td>138.598633</td>\n",
       "      <td>-23.697479</td>\n",
       "      <td>133.883621</td>\n",
       "      <td>Adelaide-Alice Springs</td>\n",
       "    </tr>\n",
       "    <tr>\n",
       "      <th>1</th>\n",
       "      <td>Adelaide</td>\n",
       "      <td>Brisbane</td>\n",
       "      <td>30682</td>\n",
       "      <td>3781</td>\n",
       "      <td>32</td>\n",
       "      <td>89.8</td>\n",
       "      <td>1622</td>\n",
       "      <td>6132782.0</td>\n",
       "      <td>6829379.0</td>\n",
       "      <td>4210</td>\n",
       "      <td>1984</td>\n",
       "      <td>1</td>\n",
       "      <td>1984-01-01</td>\n",
       "      <td>-34.928661</td>\n",
       "      <td>138.598633</td>\n",
       "      <td>-27.471010</td>\n",
       "      <td>153.024292</td>\n",
       "      <td>Adelaide-Brisbane</td>\n",
       "    </tr>\n",
       "    <tr>\n",
       "      <th>2</th>\n",
       "      <td>Adelaide</td>\n",
       "      <td>Canberra</td>\n",
       "      <td>30682</td>\n",
       "      <td>1339</td>\n",
       "      <td>12</td>\n",
       "      <td>94.7</td>\n",
       "      <td>972</td>\n",
       "      <td>1301508.0</td>\n",
       "      <td>1374348.0</td>\n",
       "      <td>1414</td>\n",
       "      <td>1984</td>\n",
       "      <td>1</td>\n",
       "      <td>1984-01-01</td>\n",
       "      <td>-34.928661</td>\n",
       "      <td>138.598633</td>\n",
       "      <td>-35.276030</td>\n",
       "      <td>149.134350</td>\n",
       "      <td>Adelaide-Canberra</td>\n",
       "    </tr>\n",
       "    <tr>\n",
       "      <th>3</th>\n",
       "      <td>Adelaide</td>\n",
       "      <td>Darwin</td>\n",
       "      <td>30682</td>\n",
       "      <td>3050</td>\n",
       "      <td>33</td>\n",
       "      <td>66.8</td>\n",
       "      <td>2619</td>\n",
       "      <td>7987950.0</td>\n",
       "      <td>11958009.0</td>\n",
       "      <td>4566</td>\n",
       "      <td>1984</td>\n",
       "      <td>1</td>\n",
       "      <td>1984-01-01</td>\n",
       "      <td>-34.928661</td>\n",
       "      <td>138.598633</td>\n",
       "      <td>-12.457220</td>\n",
       "      <td>130.836639</td>\n",
       "      <td>Adelaide-Darwin</td>\n",
       "    </tr>\n",
       "    <tr>\n",
       "      <th>4</th>\n",
       "      <td>Adelaide</td>\n",
       "      <td>Gold Coast</td>\n",
       "      <td>30682</td>\n",
       "      <td>1596</td>\n",
       "      <td>16</td>\n",
       "      <td>88.5</td>\n",
       "      <td>1607</td>\n",
       "      <td>2564772.0</td>\n",
       "      <td>2898047.0</td>\n",
       "      <td>1803</td>\n",
       "      <td>1984</td>\n",
       "      <td>1</td>\n",
       "      <td>1984-01-01</td>\n",
       "      <td>-34.928661</td>\n",
       "      <td>138.598633</td>\n",
       "      <td>-28.000290</td>\n",
       "      <td>153.430878</td>\n",
       "      <td>Adelaide-Gold Coast</td>\n",
       "    </tr>\n",
       "  </tbody>\n",
       "</table>\n",
       "</div>"
      ],
      "text/plain": [
       "      City1          City2  Month  Passenger_Trips  Aircraft_Trips  \\\n",
       "0  Adelaide  Alice Springs  30682            15743             143   \n",
       "1  Adelaide       Brisbane  30682             3781              32   \n",
       "2  Adelaide       Canberra  30682             1339              12   \n",
       "3  Adelaide         Darwin  30682             3050              33   \n",
       "4  Adelaide     Gold Coast  30682             1596              16   \n",
       "\n",
       "  Passenger_Load_Factor  Distance_GC_(km)        RPKs        ASKs  Seats  \\\n",
       "0                  81.8              1316  20717788.0  25327369.0  19246   \n",
       "1                  89.8              1622   6132782.0   6829379.0   4210   \n",
       "2                  94.7               972   1301508.0   1374348.0   1414   \n",
       "3                  66.8              2619   7987950.0  11958009.0   4566   \n",
       "4                  88.5              1607   2564772.0   2898047.0   1803   \n",
       "\n",
       "   Year  Month_num       date   City1lat   City1long   City2lat   City2long  \\\n",
       "0  1984          1 1984-01-01 -34.928661  138.598633 -23.697479  133.883621   \n",
       "1  1984          1 1984-01-01 -34.928661  138.598633 -27.471010  153.024292   \n",
       "2  1984          1 1984-01-01 -34.928661  138.598633 -35.276030  149.134350   \n",
       "3  1984          1 1984-01-01 -34.928661  138.598633 -12.457220  130.836639   \n",
       "4  1984          1 1984-01-01 -34.928661  138.598633 -28.000290  153.430878   \n",
       "\n",
       "                 CityPair  \n",
       "0  Adelaide-Alice Springs  \n",
       "1       Adelaide-Brisbane  \n",
       "2       Adelaide-Canberra  \n",
       "3         Adelaide-Darwin  \n",
       "4     Adelaide-Gold Coast  "
      ]
     },
     "execution_count": 118,
     "metadata": {},
     "output_type": "execute_result"
    }
   ],
   "source": [
    "df2[\"CityPair\"] = df2.apply(lambda row: row.City1+\"-\"+row.City2, axis=1)\n",
    "df2.head()"
   ]
  },
  {
   "cell_type": "markdown",
   "metadata": {},
   "source": [
    "5. Convert Passenger Load Factor to Float from string"
   ]
  },
  {
   "cell_type": "code",
   "execution_count": 120,
   "metadata": {},
   "outputs": [],
   "source": [
    "df2[\"Passenger_Load_Factor\"] = pd.to_numeric(df2[\"Passenger_Load_Factor\"], errors='coerce')\n",
    "df2.dropna(subset=[\"Passenger_Load_Factor\"], inplace=True)"
   ]
  },
  {
   "cell_type": "markdown",
   "metadata": {},
   "source": [
    "### Short Description of some of the columns\n",
    "\n",
    "Passenger load factor: Capacity Utilization of the the airline. Higher value means a higher load of passengers\n",
    "\n",
    "RPK - Revenue Passanger Kilometers. RPK = Passengers x Distance_GC. This is a measure of the passenger volume carried by the aircraft\n",
    "\n",
    "ASK (Available Seat Kilometers) - Calculated by Seats X Distance_GC"
   ]
  },
  {
   "cell_type": "markdown",
   "metadata": {},
   "source": [
    "## Exploratory Data Analysis"
   ]
  },
  {
   "cell_type": "markdown",
   "metadata": {},
   "source": [
    "### Plotting the origin cities. \n",
    "This is a basic example of plotting latittude and logitude. One would need to use GeoPandas for better representation. "
   ]
  },
  {
   "cell_type": "code",
   "execution_count": 133,
   "metadata": {},
   "outputs": [
    {
     "data": {
      "text/plain": [
       "<matplotlib.axes._subplots.AxesSubplot at 0x15568503848>"
      ]
     },
     "execution_count": 133,
     "metadata": {},
     "output_type": "execute_result"
    },
    {
     "data": {
      "image/png": "[encoded data removed]",
      "text/plain": [
       "<Figure size 720x504 with 2 Axes>"
      ]
     },
     "metadata": {
      "needs_background": "light"
     },
     "output_type": "display_data"
    }
   ],
   "source": [
    "df2.plot(kind='scatter', x='City1long', y='City1lat', alpha=0.1, s=120, figsize=(10,7),\n",
    "         c='RPKs', cmap='coolwarm')"
   ]
  },
  {
   "cell_type": "markdown",
   "metadata": {},
   "source": [
    "### Plotting the yearwise trend in mean passenger trips\n",
    "We can see there was a slight dip in 1988, but that is nothing compared to what COVID did in 2019/2020"
   ]
  },
  {
   "cell_type": "code",
   "execution_count": 139,
   "metadata": {},
   "outputs": [
    {
     "data": {
      "text/plain": [
       "Text(0, 0.5, 'Mean Passenger Trips')"
      ]
     },
     "execution_count": 139,
     "metadata": {},
     "output_type": "execute_result"
    },
    {
     "data": {
      "image/png": "[encoded data removed]",
      "text/plain": [
       "<Figure size 432x288 with 1 Axes>"
      ]
     },
     "metadata": {
      "needs_background": "light"
     },
     "output_type": "display_data"
    }
   ],
   "source": [
    "mean_trips_by_year = df.groupby('Year')['Passenger_Trips'].mean()\n",
    "mean_trips_by_year.plot.line()\n",
    "plt.xlabel(\"Year\")\n",
    "plt.ylabel(\"Mean Passenger Trips\")"
   ]
  },
  {
   "cell_type": "markdown",
   "metadata": {},
   "source": [
    "### A histogram of passenger load factors\n",
    "The load factors are taking a bell-shape, centered around 80%"
   ]
  },
  {
   "cell_type": "code",
   "execution_count": 127,
   "metadata": {},
   "outputs": [
    {
     "data": {
      "text/plain": [
       "<matplotlib.axes._subplots.AxesSubplot at 0x15588411e48>"
      ]
     },
     "execution_count": 127,
     "metadata": {},
     "output_type": "execute_result"
    },
    {
     "data": {
      "image/png": "[encoded data removed]",
      "text/plain": [
       "<Figure size 432x288 with 1 Axes>"
      ]
     },
     "metadata": {
      "needs_background": "light"
     },
     "output_type": "display_data"
    }
   ],
   "source": [
    "df2['Passenger_Load_Factor'].plot.hist(bins=20)"
   ]
  }
 ],
 "metadata": {
  "kernelspec": {
   "display_name": "Python 3",
   "language": "python",
   "name": "python3"
  },
  "language_info": {
   "codemirror_mode": {
    "name": "ipython",
    "version": 3
   },
   "file_extension": ".py",
   "mimetype": "text/x-python",
   "name": "python",
   "nbconvert_exporter": "python",
   "pygments_lexer": "ipython3",
   "version": "3.7.6"
  }
 },
 "nbformat": 4,
 "nbformat_minor": 4
}
